{
 "cells": [
  {
   "cell_type": "code",
   "execution_count": 5,
   "metadata": {
    "collapsed": true
   },
   "outputs": [],
   "source": [
    "#Here we are going to extend merge sort to count inversions\n",
    "#Let us get a test list\n",
    "test = [1,3,5,2,4,6]"
   ]
  },
  {
   "cell_type": "code",
   "execution_count": 6,
   "metadata": {},
   "outputs": [],
   "source": [
    "#let us load the assignment file\n",
    "test1 = [(int(line)) for line in open(\"IntegerArray.txt\")]"
   ]
  },
  {
   "cell_type": "code",
   "execution_count": 10,
   "metadata": {},
   "outputs": [],
   "source": [
    "#Function which needs to be called recursively\n",
    "def merge_sort_count_inv(nums):\n",
    "    #stopping condition =  if length is 2\n",
    "    len_nums = len(nums)\n",
    "    #Need to update the global num_inversions, dont want to mess with the return elements\n",
    "    global num_inversions\n",
    "    #you can't sort if there is only one element :-)\n",
    "    if len_nums <= 1:\n",
    "        return nums\n",
    "    else:\n",
    "        left_nums = merge_sort_count_inv(nums[0:len_nums/2])\n",
    "        right_nums = merge_sort_count_inv(nums[len_nums/2:])\n",
    "\n",
    "    #now merge left and right\n",
    "    i = 0\n",
    "    j = 0\n",
    "    k = 0\n",
    "    while j < len(left_nums) and k < len(right_nums):\n",
    "        if left_nums[j] <= right_nums[k]:\n",
    "            nums[i] = left_nums[j]\n",
    "            j += 1\n",
    "        else:\n",
    "            nums[i] = right_nums[k]\n",
    "            #Here we are copying elements from the right split array\n",
    "            num_inversions += len(left_nums)-j\n",
    "            k += 1\n",
    "        i += 1\n",
    "    \n",
    "    #incase some numbers are still left in the 2 halfs\n",
    "    #finish the left half\n",
    "    while j < len(left_nums):\n",
    "        nums[i] = left_nums[j]\n",
    "        j += 1\n",
    "        i += 1\n",
    "    \n",
    "    #finish the right half\n",
    "    while k < len(right_nums):\n",
    "        nums[i] = right_nums[k]\n",
    "        k += 1\n",
    "        i += 1\n",
    "    return nums   "
   ]
  },
  {
   "cell_type": "code",
   "execution_count": 11,
   "metadata": {},
   "outputs": [
    {
     "name": "stdout",
     "output_type": "stream",
     "text": [
      "2407905288\n"
     ]
    }
   ],
   "source": [
    "num_inversions = 0\n",
    "merge_sort_count_inv(test1)\n",
    "print num_inversions"
   ]
  },
  {
   "cell_type": "code",
   "execution_count": null,
   "metadata": {
    "collapsed": true
   },
   "outputs": [],
   "source": []
  }
 ],
 "metadata": {
  "kernelspec": {
   "display_name": "Python 2",
   "language": "python",
   "name": "python2"
  },
  "language_info": {
   "codemirror_mode": {
    "name": "ipython",
    "version": 2
   },
   "file_extension": ".py",
   "mimetype": "text/x-python",
   "name": "python",
   "nbconvert_exporter": "python",
   "pygments_lexer": "ipython2",
   "version": "2.7.11"
  }
 },
 "nbformat": 4,
 "nbformat_minor": 1
}
