{
 "cells": [
  {
   "cell_type": "markdown",
   "metadata": {
    "collapsed": true
   },
   "source": [
    "# Karatsuba multiplication"
   ]
  },
  {
   "cell_type": "code",
   "execution_count": 1,
   "metadata": {
    "collapsed": true
   },
   "outputs": [],
   "source": [
    "# Writing a recursive function for karatsuba multiplication\n",
    "# Writing the steps\n",
    "# num1, num2\n",
    "# num1 represented as ab(1st half and 2nd half)\n",
    "# num2 represented as cd\n",
    "\n",
    "#step1 ac = karatsuba(a,c)\n",
    "#step2 bd = karatsuba(b,d)\n",
    "#step3 ad+bc = karatsuba((a+b),(c+d))-ac-bd\n",
    "\n",
    "#product = ac * 10^2n/2 + (ad_plus_bc * 10^n/2) + bd"
   ]
  },
  {
   "cell_type": "code",
   "execution_count": 23,
   "metadata": {},
   "outputs": [],
   "source": [
    "def karatsuba(num1, num2):\n",
    "    if len(str(num1)) == 1 or len(str(num2)) == 1:\n",
    "        return num1*num2\n",
    "    else:\n",
    "        m = max(len(str(num1)),len(str(num2)))\n",
    "        m2 = m/2\n",
    "    \n",
    "        a = num1 / 10**(m2)\n",
    "        b = num1 % 10**(m2)\n",
    "        c = num2 / 10**(m2)\n",
    "        d = num2 % 10**(m2)\n",
    "    \n",
    "        ac = karatsuba(a,c)\n",
    "        bd = karatsuba(b,d)\n",
    "        ad_plus_bc = karatsuba(a+b,c+d) - ac - bd\n",
    "        \n",
    "        # this little trick, writing n as 2*nby2 takes care of both even and odd n\n",
    "        prod = ac * 10**(2*m2) + (ad_plus_bc * 10**m2) + bd\n",
    "    return prod"
   ]
  },
  {
   "cell_type": "code",
   "execution_count": 24,
   "metadata": {},
   "outputs": [
    {
     "data": {
      "text/plain": [
       "30000"
      ]
     },
     "execution_count": 24,
     "metadata": {},
     "output_type": "execute_result"
    }
   ],
   "source": [
    "karatsuba(100,300)"
   ]
  },
  {
   "cell_type": "code",
   "execution_count": 25,
   "metadata": {},
   "outputs": [
    {
     "data": {
      "text/plain": [
       "8539734222673567065463550869546574495034888535765114961879601127067743044893204848617875072216249073013374895871952806582723184L"
      ]
     },
     "execution_count": 25,
     "metadata": {},
     "output_type": "execute_result"
    }
   ],
   "source": [
    "karatsuba(3141592653589793238462643383279502884197169399375105820974944592, 2718281828459045235360287471352662497757247093699959574966967627)"
   ]
  },
  {
   "cell_type": "code",
   "execution_count": null,
   "metadata": {
    "collapsed": true
   },
   "outputs": [],
   "source": []
  }
 ],
 "metadata": {
  "kernelspec": {
   "display_name": "Python 2",
   "language": "python",
   "name": "python2"
  },
  "language_info": {
   "codemirror_mode": {
    "name": "ipython",
    "version": 2
   },
   "file_extension": ".py",
   "mimetype": "text/x-python",
   "name": "python",
   "nbconvert_exporter": "python",
   "pygments_lexer": "ipython2",
   "version": "2.7.11"
  }
 },
 "nbformat": 4,
 "nbformat_minor": 2
}
