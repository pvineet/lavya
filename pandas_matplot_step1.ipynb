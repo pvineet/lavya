{
 "cells": [
  {
   "cell_type": "markdown",
   "metadata": {},
   "source": [
    "# Lets learn pandas"
   ]
  },
  {
   "cell_type": "code",
   "execution_count": 46,
   "metadata": {},
   "outputs": [],
   "source": [
    "import pandas as pd\n",
    "import matplotlib.pyplot as plt\n",
    "%matplotlib inline"
   ]
  },
  {
   "cell_type": "code",
   "execution_count": 47,
   "metadata": {},
   "outputs": [],
   "source": [
    "df = pd.DataFrame\n",
    "df = pd.read_csv(\"Iris.csv\")"
   ]
  },
  {
   "cell_type": "code",
   "execution_count": 67,
   "metadata": {},
   "outputs": [
    {
     "data": {
      "text/plain": [
       "{'Iris-setosa', 'Iris-versicolor', 'Iris-virginica'}"
      ]
     },
     "execution_count": 67,
     "metadata": {},
     "output_type": "execute_result"
    }
   ],
   "source": [
    "#Drop id as it is not much use\n",
    "df.drop('Id', axis=1)\n",
    "set(df[\"Species\"])"
   ]
  },
  {
   "cell_type": "code",
   "execution_count": 65,
   "metadata": {},
   "outputs": [
    {
     "data": {
      "text/plain": [
       "<matplotlib.collections.PathCollection at 0x7f5b97372610>"
      ]
     },
     "execution_count": 65,
     "metadata": {},
     "output_type": "execute_result"
    },
    {
     "data": {
      "image/png": "[encoded data removed]",
      "text/plain": [
       "<matplotlib.figure.Figure at 0x7f5b973c4fd0>"
      ]
     },
     "metadata": {},
     "output_type": "display_data"
    }
   ],
   "source": [
    "# Create a new figure of size 8x6 points, using 100 dots per inch\n",
    "fig1 = plt.figure(figsize=(8,6), dpi=80)\n",
    "# Create a new subplot from a grid of 1x1\n",
    "plot1 = plt.subplot(111)\n",
    "plot1.set_title(\"Sepal Width vs Petal Width\")\n",
    "x = df['SepalWidthCm'].values\n",
    "y = df['PetalWidthCm'].values\n",
    "#print max(x), min(x)\n",
    "#print max(y), min(y)\n",
    "plt.xlim(0,5.0)\n",
    "plt.ylim(0,5.0)\n",
    "plt.scatter(x,y, color=\"red\")\n"
   ]
  },
  {
   "cell_type": "code",
   "execution_count": null,
   "metadata": {},
   "outputs": [],
   "source": [
    "#Replacing the Species names with numbers\n",
    "df.replace(['Iris-virginica','Iris-setosa','Iris-versicolor'],[0,1,2], inplace=True)"
   ]
  },
  {
   "cell_type": "code",
   "execution_count": 77,
   "metadata": {},
   "outputs": [
    {
     "data": {
      "text/plain": [
       "<matplotlib.collections.PathCollection at 0x7f5b96d71110>"
      ]
     },
     "execution_count": 77,
     "metadata": {},
     "output_type": "execute_result"
    },
    {
     "data": {
      "image/png": "[encoded data removed]",
      "text/plain": [
       "<matplotlib.figure.Figure at 0x7f5b96de7b50>"
      ]
     },
     "metadata": {},
     "output_type": "display_data"
    }
   ],
   "source": [
    "# Create a new subplot from a grid of 1x1\n",
    "plot1 = plt.subplot(111)\n",
    "plot1.set_title(\"Sepal Width vs Petal Width\")\n",
    "y = df['Species'].values\n",
    "#x = df['PetalWidthCm'].values\n",
    "x = df['PetalLengthCm'].values\n",
    "plt.xlim(0,max(x)+2)\n",
    "plt.ylim(0,max(y)+2)\n",
    "plt.scatter(x,y, color=\"red\")"
   ]
  },
  {
   "cell_type": "code",
   "execution_count": null,
   "metadata": {},
   "outputs": [],
   "source": []
  },
  {
   "cell_type": "code",
   "execution_count": null,
   "metadata": {
    "collapsed": true
   },
   "outputs": [],
   "source": []
  }
 ],
 "metadata": {
  "kernelspec": {
   "display_name": "Python 2",
   "language": "python",
   "name": "python2"
  },
  "language_info": {
   "codemirror_mode": {
    "name": "ipython",
    "version": 2
   },
   "file_extension": ".py",
   "mimetype": "text/x-python",
   "name": "python",
   "nbconvert_exporter": "python",
   "pygments_lexer": "ipython2",
   "version": "2.7.12"
  }
 },
 "nbformat": 4,
 "nbformat_minor": 2
}
