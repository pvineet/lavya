{
 "cells": [
  {
   "cell_type": "markdown",
   "metadata": {},
   "source": [
    "# Merge Sort"
   ]
  },
  {
   "cell_type": "code",
   "execution_count": 146,
   "metadata": {
    "collapsed": true
   },
   "outputs": [],
   "source": [
    "#Lets create a test array\n",
    "test = [100,6,5,4,8,3,2,1, -1, -1]"
   ]
  },
  {
   "cell_type": "code",
   "execution_count": 144,
   "metadata": {},
   "outputs": [],
   "source": [
    "#Function which needs to be called recursively\n",
    "def merge_sort(nums):\n",
    "    #stopping condition =  if length is 2\n",
    "    len_nums = len(nums)\n",
    "    #store the merged array \n",
    "    merged = []\n",
    "    if len_nums <= 1:\n",
    "        return nums\n",
    "    else:\n",
    "        left_nums = merge_sort(nums[0:len_nums/2])\n",
    "        right_nums = merge_sort(nums[len_nums/2:])\n",
    "\n",
    "    #now merge left and right\n",
    "    i = 0\n",
    "    j = 0\n",
    "    k = 0\n",
    "    while j < len(left_nums) and k < len(right_nums):\n",
    "        if left_nums[j] <= right_nums[k]:\n",
    "            nums[i] = left_nums[j]\n",
    "            j += 1\n",
    "        else:\n",
    "            nums[i] = right_nums[k]\n",
    "            k += 1\n",
    "        i += 1\n",
    "    \n",
    "    #incase some numbers are still left in the 2 halfs\n",
    "    #finish the left half\n",
    "    while j < len(left_nums):\n",
    "        nums[i] = left_nums[j]\n",
    "        j += 1\n",
    "        i += 1\n",
    "    \n",
    "    #finish the right half\n",
    "    while k < len(right_nums):\n",
    "        nums[i] = right_nums[k]\n",
    "        k += 1\n",
    "        i += 1\n",
    "        \n",
    "    #print nums\n",
    "    return nums     "
   ]
  },
  {
   "cell_type": "code",
   "execution_count": 147,
   "metadata": {},
   "outputs": [
    {
     "name": "stdout",
     "output_type": "stream",
     "text": [
      "[6, 100]\n",
      "[4, 8]\n",
      "[4, 5, 8]\n",
      "[4, 5, 6, 8, 100]\n",
      "[2, 3]\n",
      "[-1, -1]\n",
      "[-1, -1, 1]\n",
      "[-1, -1, 1, 2, 3]\n",
      "[-1, -1, 1, 2, 3, 4, 5, 6, 8, 100]\n",
      "[-1, -1, 1, 2, 3, 4, 5, 6, 8, 100]\n"
     ]
    }
   ],
   "source": [
    "print merge_sort(test)"
   ]
  },
  {
   "cell_type": "code",
   "execution_count": null,
   "metadata": {
    "collapsed": true
   },
   "outputs": [],
   "source": []
  }
 ],
 "metadata": {
  "kernelspec": {
   "display_name": "Python 2",
   "language": "python",
   "name": "python2"
  },
  "language_info": {
   "codemirror_mode": {
    "name": "ipython",
    "version": 2
   },
   "file_extension": ".py",
   "mimetype": "text/x-python",
   "name": "python",
   "nbconvert_exporter": "python",
   "pygments_lexer": "ipython2",
   "version": "2.7.11"
  }
 },
 "nbformat": 4,
 "nbformat_minor": 2
}
